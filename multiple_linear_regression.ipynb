{
  "nbformat": 4,
  "nbformat_minor": 0,
  "metadata": {
    "colab": {
      "provenance": [],
      "include_colab_link": true
    },
    "kernelspec": {
      "name": "python3",
      "display_name": "Python 3"
    }
  },
  "cells": [
    {
      "cell_type": "markdown",
      "metadata": {
        "id": "view-in-github",
        "colab_type": "text"
      },
      "source": [
        "<a href=\"https://colab.research.google.com/github/RafinEazdan/Machine_Learning/blob/main/multiple_linear_regression.ipynb\" target=\"_parent\"><img src=\"https://colab.research.google.com/assets/colab-badge.svg\" alt=\"Open In Colab\"/></a>"
      ]
    },
    {
      "cell_type": "markdown",
      "metadata": {
        "id": "CazISR8X_HUG"
      },
      "source": [
        "# Multiple Linear Regression"
      ]
    },
    {
      "cell_type": "markdown",
      "metadata": {
        "id": "pOyqYHTk_Q57"
      },
      "source": [
        "## Importing the libraries"
      ]
    },
    {
      "cell_type": "code",
      "metadata": {
        "id": "T_YHJjnD_Tja"
      },
      "source": [
        "import numpy as np\n",
        "import matplotlib.pyplot as plt\n",
        "import pandas as pd"
      ],
      "execution_count": null,
      "outputs": []
    },
    {
      "cell_type": "markdown",
      "metadata": {
        "id": "vgC61-ah_WIz"
      },
      "source": [
        "## Importing the dataset"
      ]
    },
    {
      "cell_type": "code",
      "source": [
        "dataset = pd.read_csv('50_Startups.csv')\n",
        "X = dataset.iloc[:, :-1].values #\"values\" converts the dataframe to a numpy array\n",
        "y = dataset.iloc[:,-1].values"
      ],
      "metadata": {
        "id": "uWlA15Ip6ECz"
      },
      "execution_count": null,
      "outputs": []
    },
    {
      "cell_type": "markdown",
      "metadata": {
        "id": "VadrvE7s_lS9"
      },
      "source": [
        "## Encoding categorical data"
      ]
    },
    {
      "cell_type": "code",
      "source": [
        "from sklearn.compose import ColumnTransformer\n",
        "from sklearn.preprocessing import OneHotEncoder\n",
        "ct = ColumnTransformer(transformers=[('encoder', OneHotEncoder(), [3])], remainder = 'passthrough')\n",
        "X = np.array(ct.fit_transform(X))"
      ],
      "metadata": {
        "id": "-BBVJHamDoqH"
      },
      "execution_count": null,
      "outputs": []
    },
    {
      "cell_type": "code",
      "source": [
        "X"
      ],
      "metadata": {
        "colab": {
          "base_uri": "https://localhost:8080/"
        },
        "id": "AVEXcC5hKSFF",
        "outputId": "2a927945-ed44-4ae0-bea2-66455520514c"
      },
      "execution_count": null,
      "outputs": [
        {
          "output_type": "execute_result",
          "data": {
            "text/plain": [
              "array([[0.0, 0.0, 1.0, 165349.2, 136897.8, 471784.1],\n",
              "       [1.0, 0.0, 0.0, 162597.7, 151377.59, 443898.53],\n",
              "       [0.0, 1.0, 0.0, 153441.51, 101145.55, 407934.54],\n",
              "       [0.0, 0.0, 1.0, 144372.41, 118671.85, 383199.62],\n",
              "       [0.0, 1.0, 0.0, 142107.34, 91391.77, 366168.42],\n",
              "       [0.0, 0.0, 1.0, 131876.9, 99814.71, 362861.36],\n",
              "       [1.0, 0.0, 0.0, 134615.46, 147198.87, 127716.82],\n",
              "       [0.0, 1.0, 0.0, 130298.13, 145530.06, 323876.68],\n",
              "       [0.0, 0.0, 1.0, 120542.52, 148718.95, 311613.29],\n",
              "       [1.0, 0.0, 0.0, 123334.88, 108679.17, 304981.62],\n",
              "       [0.0, 1.0, 0.0, 101913.08, 110594.11, 229160.95],\n",
              "       [1.0, 0.0, 0.0, 100671.96, 91790.61, 249744.55],\n",
              "       [0.0, 1.0, 0.0, 93863.75, 127320.38, 249839.44],\n",
              "       [1.0, 0.0, 0.0, 91992.39, 135495.07, 252664.93],\n",
              "       [0.0, 1.0, 0.0, 119943.24, 156547.42, 256512.92],\n",
              "       [0.0, 0.0, 1.0, 114523.61, 122616.84, 261776.23],\n",
              "       [1.0, 0.0, 0.0, 78013.11, 121597.55, 264346.06],\n",
              "       [0.0, 0.0, 1.0, 94657.16, 145077.58, 282574.31],\n",
              "       [0.0, 1.0, 0.0, 91749.16, 114175.79, 294919.57],\n",
              "       [0.0, 0.0, 1.0, 86419.7, 153514.11, 0.0],\n",
              "       [1.0, 0.0, 0.0, 76253.86, 113867.3, 298664.47],\n",
              "       [0.0, 0.0, 1.0, 78389.47, 153773.43, 299737.29],\n",
              "       [0.0, 1.0, 0.0, 73994.56, 122782.75, 303319.26],\n",
              "       [0.0, 1.0, 0.0, 67532.53, 105751.03, 304768.73],\n",
              "       [0.0, 0.0, 1.0, 77044.01, 99281.34, 140574.81],\n",
              "       [1.0, 0.0, 0.0, 64664.71, 139553.16, 137962.62],\n",
              "       [0.0, 1.0, 0.0, 75328.87, 144135.98, 134050.07],\n",
              "       [0.0, 0.0, 1.0, 72107.6, 127864.55, 353183.81],\n",
              "       [0.0, 1.0, 0.0, 66051.52, 182645.56, 118148.2],\n",
              "       [0.0, 0.0, 1.0, 65605.48, 153032.06, 107138.38],\n",
              "       [0.0, 1.0, 0.0, 61994.48, 115641.28, 91131.24],\n",
              "       [0.0, 0.0, 1.0, 61136.38, 152701.92, 88218.23],\n",
              "       [1.0, 0.0, 0.0, 63408.86, 129219.61, 46085.25],\n",
              "       [0.0, 1.0, 0.0, 55493.95, 103057.49, 214634.81],\n",
              "       [1.0, 0.0, 0.0, 46426.07, 157693.92, 210797.67],\n",
              "       [0.0, 0.0, 1.0, 46014.02, 85047.44, 205517.64],\n",
              "       [0.0, 1.0, 0.0, 28663.76, 127056.21, 201126.82],\n",
              "       [1.0, 0.0, 0.0, 44069.95, 51283.14, 197029.42],\n",
              "       [0.0, 0.0, 1.0, 20229.59, 65947.93, 185265.1],\n",
              "       [1.0, 0.0, 0.0, 38558.51, 82982.09, 174999.3],\n",
              "       [1.0, 0.0, 0.0, 28754.33, 118546.05, 172795.67],\n",
              "       [0.0, 1.0, 0.0, 27892.92, 84710.77, 164470.71],\n",
              "       [1.0, 0.0, 0.0, 23640.93, 96189.63, 148001.11],\n",
              "       [0.0, 0.0, 1.0, 15505.73, 127382.3, 35534.17],\n",
              "       [1.0, 0.0, 0.0, 22177.74, 154806.14, 28334.72],\n",
              "       [0.0, 0.0, 1.0, 1000.23, 124153.04, 1903.93],\n",
              "       [0.0, 1.0, 0.0, 1315.46, 115816.21, 297114.46],\n",
              "       [1.0, 0.0, 0.0, 0.0, 135426.92, 0.0],\n",
              "       [0.0, 0.0, 1.0, 542.05, 51743.15, 0.0],\n",
              "       [1.0, 0.0, 0.0, 0.0, 116983.8, 45173.06]], dtype=object)"
            ]
          },
          "metadata": {},
          "execution_count": 8
        }
      ]
    },
    {
      "cell_type": "markdown",
      "metadata": {
        "id": "WemVnqgeA70k"
      },
      "source": [
        "## Splitting the dataset into the Training set and Test set"
      ]
    },
    {
      "cell_type": "code",
      "source": [
        "from sklearn.model_selection import train_test_split\n",
        "X_train,X_test,y_train,y_test = train_test_split(X,y, test_size = 0.2, random_state = 0)"
      ],
      "metadata": {
        "id": "w6aAn7QnChr_"
      },
      "execution_count": null,
      "outputs": []
    },
    {
      "cell_type": "markdown",
      "source": [
        "*0.2 means 20% if the data is for the test*\n",
        "\n",
        "*random = 0 means the split will be same everytime. if 1 then the split would be randomized*"
      ],
      "metadata": {
        "id": "_A4S8WI38aiJ"
      }
    },
    {
      "cell_type": "markdown",
      "metadata": {
        "id": "k-McZVsQBINc"
      },
      "source": [
        "## Training the Multiple Linear Regression model on the Training set"
      ]
    },
    {
      "cell_type": "code",
      "source": [
        "from sklearn.linear_model import LinearRegression\n",
        "regressor = LinearRegression()\n",
        "regressor.fit(X_train,y_train)"
      ],
      "metadata": {
        "colab": {
          "base_uri": "https://localhost:8080/",
          "height": 80
        },
        "id": "IBzhI2Ny3yy6",
        "outputId": "1fdee7b1-169e-4685-e6f1-22ada840773d"
      },
      "execution_count": null,
      "outputs": [
        {
          "output_type": "execute_result",
          "data": {
            "text/plain": [
              "LinearRegression()"
            ],
            "text/html": [
              "<style>#sk-container-id-2 {\n",
              "  /* Definition of color scheme common for light and dark mode */\n",
              "  --sklearn-color-text: #000;\n",
              "  --sklearn-color-text-muted: #666;\n",
              "  --sklearn-color-line: gray;\n",
              "  /* Definition of color scheme for unfitted estimators */\n",
              "  --sklearn-color-unfitted-level-0: #fff5e6;\n",
              "  --sklearn-color-unfitted-level-1: #f6e4d2;\n",
              "  --sklearn-color-unfitted-level-2: #ffe0b3;\n",
              "  --sklearn-color-unfitted-level-3: chocolate;\n",
              "  /* Definition of color scheme for fitted estimators */\n",
              "  --sklearn-color-fitted-level-0: #f0f8ff;\n",
              "  --sklearn-color-fitted-level-1: #d4ebff;\n",
              "  --sklearn-color-fitted-level-2: #b3dbfd;\n",
              "  --sklearn-color-fitted-level-3: cornflowerblue;\n",
              "\n",
              "  /* Specific color for light theme */\n",
              "  --sklearn-color-text-on-default-background: var(--sg-text-color, var(--theme-code-foreground, var(--jp-content-font-color1, black)));\n",
              "  --sklearn-color-background: var(--sg-background-color, var(--theme-background, var(--jp-layout-color0, white)));\n",
              "  --sklearn-color-border-box: var(--sg-text-color, var(--theme-code-foreground, var(--jp-content-font-color1, black)));\n",
              "  --sklearn-color-icon: #696969;\n",
              "\n",
              "  @media (prefers-color-scheme: dark) {\n",
              "    /* Redefinition of color scheme for dark theme */\n",
              "    --sklearn-color-text-on-default-background: var(--sg-text-color, var(--theme-code-foreground, var(--jp-content-font-color1, white)));\n",
              "    --sklearn-color-background: var(--sg-background-color, var(--theme-background, var(--jp-layout-color0, #111)));\n",
              "    --sklearn-color-border-box: var(--sg-text-color, var(--theme-code-foreground, var(--jp-content-font-color1, white)));\n",
              "    --sklearn-color-icon: #878787;\n",
              "  }\n",
              "}\n",
              "\n",
              "#sk-container-id-2 {\n",
              "  color: var(--sklearn-color-text);\n",
              "}\n",
              "\n",
              "#sk-container-id-2 pre {\n",
              "  padding: 0;\n",
              "}\n",
              "\n",
              "#sk-container-id-2 input.sk-hidden--visually {\n",
              "  border: 0;\n",
              "  clip: rect(1px 1px 1px 1px);\n",
              "  clip: rect(1px, 1px, 1px, 1px);\n",
              "  height: 1px;\n",
              "  margin: -1px;\n",
              "  overflow: hidden;\n",
              "  padding: 0;\n",
              "  position: absolute;\n",
              "  width: 1px;\n",
              "}\n",
              "\n",
              "#sk-container-id-2 div.sk-dashed-wrapped {\n",
              "  border: 1px dashed var(--sklearn-color-line);\n",
              "  margin: 0 0.4em 0.5em 0.4em;\n",
              "  box-sizing: border-box;\n",
              "  padding-bottom: 0.4em;\n",
              "  background-color: var(--sklearn-color-background);\n",
              "}\n",
              "\n",
              "#sk-container-id-2 div.sk-container {\n",
              "  /* jupyter's `normalize.less` sets `[hidden] { display: none; }`\n",
              "     but bootstrap.min.css set `[hidden] { display: none !important; }`\n",
              "     so we also need the `!important` here to be able to override the\n",
              "     default hidden behavior on the sphinx rendered scikit-learn.org.\n",
              "     See: https://github.com/scikit-learn/scikit-learn/issues/21755 */\n",
              "  display: inline-block !important;\n",
              "  position: relative;\n",
              "}\n",
              "\n",
              "#sk-container-id-2 div.sk-text-repr-fallback {\n",
              "  display: none;\n",
              "}\n",
              "\n",
              "div.sk-parallel-item,\n",
              "div.sk-serial,\n",
              "div.sk-item {\n",
              "  /* draw centered vertical line to link estimators */\n",
              "  background-image: linear-gradient(var(--sklearn-color-text-on-default-background), var(--sklearn-color-text-on-default-background));\n",
              "  background-size: 2px 100%;\n",
              "  background-repeat: no-repeat;\n",
              "  background-position: center center;\n",
              "}\n",
              "\n",
              "/* Parallel-specific style estimator block */\n",
              "\n",
              "#sk-container-id-2 div.sk-parallel-item::after {\n",
              "  content: \"\";\n",
              "  width: 100%;\n",
              "  border-bottom: 2px solid var(--sklearn-color-text-on-default-background);\n",
              "  flex-grow: 1;\n",
              "}\n",
              "\n",
              "#sk-container-id-2 div.sk-parallel {\n",
              "  display: flex;\n",
              "  align-items: stretch;\n",
              "  justify-content: center;\n",
              "  background-color: var(--sklearn-color-background);\n",
              "  position: relative;\n",
              "}\n",
              "\n",
              "#sk-container-id-2 div.sk-parallel-item {\n",
              "  display: flex;\n",
              "  flex-direction: column;\n",
              "}\n",
              "\n",
              "#sk-container-id-2 div.sk-parallel-item:first-child::after {\n",
              "  align-self: flex-end;\n",
              "  width: 50%;\n",
              "}\n",
              "\n",
              "#sk-container-id-2 div.sk-parallel-item:last-child::after {\n",
              "  align-self: flex-start;\n",
              "  width: 50%;\n",
              "}\n",
              "\n",
              "#sk-container-id-2 div.sk-parallel-item:only-child::after {\n",
              "  width: 0;\n",
              "}\n",
              "\n",
              "/* Serial-specific style estimator block */\n",
              "\n",
              "#sk-container-id-2 div.sk-serial {\n",
              "  display: flex;\n",
              "  flex-direction: column;\n",
              "  align-items: center;\n",
              "  background-color: var(--sklearn-color-background);\n",
              "  padding-right: 1em;\n",
              "  padding-left: 1em;\n",
              "}\n",
              "\n",
              "\n",
              "/* Toggleable style: style used for estimator/Pipeline/ColumnTransformer box that is\n",
              "clickable and can be expanded/collapsed.\n",
              "- Pipeline and ColumnTransformer use this feature and define the default style\n",
              "- Estimators will overwrite some part of the style using the `sk-estimator` class\n",
              "*/\n",
              "\n",
              "/* Pipeline and ColumnTransformer style (default) */\n",
              "\n",
              "#sk-container-id-2 div.sk-toggleable {\n",
              "  /* Default theme specific background. It is overwritten whether we have a\n",
              "  specific estimator or a Pipeline/ColumnTransformer */\n",
              "  background-color: var(--sklearn-color-background);\n",
              "}\n",
              "\n",
              "/* Toggleable label */\n",
              "#sk-container-id-2 label.sk-toggleable__label {\n",
              "  cursor: pointer;\n",
              "  display: flex;\n",
              "  width: 100%;\n",
              "  margin-bottom: 0;\n",
              "  padding: 0.5em;\n",
              "  box-sizing: border-box;\n",
              "  text-align: center;\n",
              "  align-items: start;\n",
              "  justify-content: space-between;\n",
              "  gap: 0.5em;\n",
              "}\n",
              "\n",
              "#sk-container-id-2 label.sk-toggleable__label .caption {\n",
              "  font-size: 0.6rem;\n",
              "  font-weight: lighter;\n",
              "  color: var(--sklearn-color-text-muted);\n",
              "}\n",
              "\n",
              "#sk-container-id-2 label.sk-toggleable__label-arrow:before {\n",
              "  /* Arrow on the left of the label */\n",
              "  content: \"▸\";\n",
              "  float: left;\n",
              "  margin-right: 0.25em;\n",
              "  color: var(--sklearn-color-icon);\n",
              "}\n",
              "\n",
              "#sk-container-id-2 label.sk-toggleable__label-arrow:hover:before {\n",
              "  color: var(--sklearn-color-text);\n",
              "}\n",
              "\n",
              "/* Toggleable content - dropdown */\n",
              "\n",
              "#sk-container-id-2 div.sk-toggleable__content {\n",
              "  max-height: 0;\n",
              "  max-width: 0;\n",
              "  overflow: hidden;\n",
              "  text-align: left;\n",
              "  /* unfitted */\n",
              "  background-color: var(--sklearn-color-unfitted-level-0);\n",
              "}\n",
              "\n",
              "#sk-container-id-2 div.sk-toggleable__content.fitted {\n",
              "  /* fitted */\n",
              "  background-color: var(--sklearn-color-fitted-level-0);\n",
              "}\n",
              "\n",
              "#sk-container-id-2 div.sk-toggleable__content pre {\n",
              "  margin: 0.2em;\n",
              "  border-radius: 0.25em;\n",
              "  color: var(--sklearn-color-text);\n",
              "  /* unfitted */\n",
              "  background-color: var(--sklearn-color-unfitted-level-0);\n",
              "}\n",
              "\n",
              "#sk-container-id-2 div.sk-toggleable__content.fitted pre {\n",
              "  /* unfitted */\n",
              "  background-color: var(--sklearn-color-fitted-level-0);\n",
              "}\n",
              "\n",
              "#sk-container-id-2 input.sk-toggleable__control:checked~div.sk-toggleable__content {\n",
              "  /* Expand drop-down */\n",
              "  max-height: 200px;\n",
              "  max-width: 100%;\n",
              "  overflow: auto;\n",
              "}\n",
              "\n",
              "#sk-container-id-2 input.sk-toggleable__control:checked~label.sk-toggleable__label-arrow:before {\n",
              "  content: \"▾\";\n",
              "}\n",
              "\n",
              "/* Pipeline/ColumnTransformer-specific style */\n",
              "\n",
              "#sk-container-id-2 div.sk-label input.sk-toggleable__control:checked~label.sk-toggleable__label {\n",
              "  color: var(--sklearn-color-text);\n",
              "  background-color: var(--sklearn-color-unfitted-level-2);\n",
              "}\n",
              "\n",
              "#sk-container-id-2 div.sk-label.fitted input.sk-toggleable__control:checked~label.sk-toggleable__label {\n",
              "  background-color: var(--sklearn-color-fitted-level-2);\n",
              "}\n",
              "\n",
              "/* Estimator-specific style */\n",
              "\n",
              "/* Colorize estimator box */\n",
              "#sk-container-id-2 div.sk-estimator input.sk-toggleable__control:checked~label.sk-toggleable__label {\n",
              "  /* unfitted */\n",
              "  background-color: var(--sklearn-color-unfitted-level-2);\n",
              "}\n",
              "\n",
              "#sk-container-id-2 div.sk-estimator.fitted input.sk-toggleable__control:checked~label.sk-toggleable__label {\n",
              "  /* fitted */\n",
              "  background-color: var(--sklearn-color-fitted-level-2);\n",
              "}\n",
              "\n",
              "#sk-container-id-2 div.sk-label label.sk-toggleable__label,\n",
              "#sk-container-id-2 div.sk-label label {\n",
              "  /* The background is the default theme color */\n",
              "  color: var(--sklearn-color-text-on-default-background);\n",
              "}\n",
              "\n",
              "/* On hover, darken the color of the background */\n",
              "#sk-container-id-2 div.sk-label:hover label.sk-toggleable__label {\n",
              "  color: var(--sklearn-color-text);\n",
              "  background-color: var(--sklearn-color-unfitted-level-2);\n",
              "}\n",
              "\n",
              "/* Label box, darken color on hover, fitted */\n",
              "#sk-container-id-2 div.sk-label.fitted:hover label.sk-toggleable__label.fitted {\n",
              "  color: var(--sklearn-color-text);\n",
              "  background-color: var(--sklearn-color-fitted-level-2);\n",
              "}\n",
              "\n",
              "/* Estimator label */\n",
              "\n",
              "#sk-container-id-2 div.sk-label label {\n",
              "  font-family: monospace;\n",
              "  font-weight: bold;\n",
              "  display: inline-block;\n",
              "  line-height: 1.2em;\n",
              "}\n",
              "\n",
              "#sk-container-id-2 div.sk-label-container {\n",
              "  text-align: center;\n",
              "}\n",
              "\n",
              "/* Estimator-specific */\n",
              "#sk-container-id-2 div.sk-estimator {\n",
              "  font-family: monospace;\n",
              "  border: 1px dotted var(--sklearn-color-border-box);\n",
              "  border-radius: 0.25em;\n",
              "  box-sizing: border-box;\n",
              "  margin-bottom: 0.5em;\n",
              "  /* unfitted */\n",
              "  background-color: var(--sklearn-color-unfitted-level-0);\n",
              "}\n",
              "\n",
              "#sk-container-id-2 div.sk-estimator.fitted {\n",
              "  /* fitted */\n",
              "  background-color: var(--sklearn-color-fitted-level-0);\n",
              "}\n",
              "\n",
              "/* on hover */\n",
              "#sk-container-id-2 div.sk-estimator:hover {\n",
              "  /* unfitted */\n",
              "  background-color: var(--sklearn-color-unfitted-level-2);\n",
              "}\n",
              "\n",
              "#sk-container-id-2 div.sk-estimator.fitted:hover {\n",
              "  /* fitted */\n",
              "  background-color: var(--sklearn-color-fitted-level-2);\n",
              "}\n",
              "\n",
              "/* Specification for estimator info (e.g. \"i\" and \"?\") */\n",
              "\n",
              "/* Common style for \"i\" and \"?\" */\n",
              "\n",
              ".sk-estimator-doc-link,\n",
              "a:link.sk-estimator-doc-link,\n",
              "a:visited.sk-estimator-doc-link {\n",
              "  float: right;\n",
              "  font-size: smaller;\n",
              "  line-height: 1em;\n",
              "  font-family: monospace;\n",
              "  background-color: var(--sklearn-color-background);\n",
              "  border-radius: 1em;\n",
              "  height: 1em;\n",
              "  width: 1em;\n",
              "  text-decoration: none !important;\n",
              "  margin-left: 0.5em;\n",
              "  text-align: center;\n",
              "  /* unfitted */\n",
              "  border: var(--sklearn-color-unfitted-level-1) 1pt solid;\n",
              "  color: var(--sklearn-color-unfitted-level-1);\n",
              "}\n",
              "\n",
              ".sk-estimator-doc-link.fitted,\n",
              "a:link.sk-estimator-doc-link.fitted,\n",
              "a:visited.sk-estimator-doc-link.fitted {\n",
              "  /* fitted */\n",
              "  border: var(--sklearn-color-fitted-level-1) 1pt solid;\n",
              "  color: var(--sklearn-color-fitted-level-1);\n",
              "}\n",
              "\n",
              "/* On hover */\n",
              "div.sk-estimator:hover .sk-estimator-doc-link:hover,\n",
              ".sk-estimator-doc-link:hover,\n",
              "div.sk-label-container:hover .sk-estimator-doc-link:hover,\n",
              ".sk-estimator-doc-link:hover {\n",
              "  /* unfitted */\n",
              "  background-color: var(--sklearn-color-unfitted-level-3);\n",
              "  color: var(--sklearn-color-background);\n",
              "  text-decoration: none;\n",
              "}\n",
              "\n",
              "div.sk-estimator.fitted:hover .sk-estimator-doc-link.fitted:hover,\n",
              ".sk-estimator-doc-link.fitted:hover,\n",
              "div.sk-label-container:hover .sk-estimator-doc-link.fitted:hover,\n",
              ".sk-estimator-doc-link.fitted:hover {\n",
              "  /* fitted */\n",
              "  background-color: var(--sklearn-color-fitted-level-3);\n",
              "  color: var(--sklearn-color-background);\n",
              "  text-decoration: none;\n",
              "}\n",
              "\n",
              "/* Span, style for the box shown on hovering the info icon */\n",
              ".sk-estimator-doc-link span {\n",
              "  display: none;\n",
              "  z-index: 9999;\n",
              "  position: relative;\n",
              "  font-weight: normal;\n",
              "  right: .2ex;\n",
              "  padding: .5ex;\n",
              "  margin: .5ex;\n",
              "  width: min-content;\n",
              "  min-width: 20ex;\n",
              "  max-width: 50ex;\n",
              "  color: var(--sklearn-color-text);\n",
              "  box-shadow: 2pt 2pt 4pt #999;\n",
              "  /* unfitted */\n",
              "  background: var(--sklearn-color-unfitted-level-0);\n",
              "  border: .5pt solid var(--sklearn-color-unfitted-level-3);\n",
              "}\n",
              "\n",
              ".sk-estimator-doc-link.fitted span {\n",
              "  /* fitted */\n",
              "  background: var(--sklearn-color-fitted-level-0);\n",
              "  border: var(--sklearn-color-fitted-level-3);\n",
              "}\n",
              "\n",
              ".sk-estimator-doc-link:hover span {\n",
              "  display: block;\n",
              "}\n",
              "\n",
              "/* \"?\"-specific style due to the `<a>` HTML tag */\n",
              "\n",
              "#sk-container-id-2 a.estimator_doc_link {\n",
              "  float: right;\n",
              "  font-size: 1rem;\n",
              "  line-height: 1em;\n",
              "  font-family: monospace;\n",
              "  background-color: var(--sklearn-color-background);\n",
              "  border-radius: 1rem;\n",
              "  height: 1rem;\n",
              "  width: 1rem;\n",
              "  text-decoration: none;\n",
              "  /* unfitted */\n",
              "  color: var(--sklearn-color-unfitted-level-1);\n",
              "  border: var(--sklearn-color-unfitted-level-1) 1pt solid;\n",
              "}\n",
              "\n",
              "#sk-container-id-2 a.estimator_doc_link.fitted {\n",
              "  /* fitted */\n",
              "  border: var(--sklearn-color-fitted-level-1) 1pt solid;\n",
              "  color: var(--sklearn-color-fitted-level-1);\n",
              "}\n",
              "\n",
              "/* On hover */\n",
              "#sk-container-id-2 a.estimator_doc_link:hover {\n",
              "  /* unfitted */\n",
              "  background-color: var(--sklearn-color-unfitted-level-3);\n",
              "  color: var(--sklearn-color-background);\n",
              "  text-decoration: none;\n",
              "}\n",
              "\n",
              "#sk-container-id-2 a.estimator_doc_link.fitted:hover {\n",
              "  /* fitted */\n",
              "  background-color: var(--sklearn-color-fitted-level-3);\n",
              "}\n",
              "</style><div id=\"sk-container-id-2\" class=\"sk-top-container\"><div class=\"sk-text-repr-fallback\"><pre>LinearRegression()</pre><b>In a Jupyter environment, please rerun this cell to show the HTML representation or trust the notebook. <br />On GitHub, the HTML representation is unable to render, please try loading this page with nbviewer.org.</b></div><div class=\"sk-container\" hidden><div class=\"sk-item\"><div class=\"sk-estimator fitted sk-toggleable\"><input class=\"sk-toggleable__control sk-hidden--visually\" id=\"sk-estimator-id-2\" type=\"checkbox\" checked><label for=\"sk-estimator-id-2\" class=\"sk-toggleable__label fitted sk-toggleable__label-arrow\"><div><div>LinearRegression</div></div><div><a class=\"sk-estimator-doc-link fitted\" rel=\"noreferrer\" target=\"_blank\" href=\"https://scikit-learn.org/1.6/modules/generated/sklearn.linear_model.LinearRegression.html\">?<span>Documentation for LinearRegression</span></a><span class=\"sk-estimator-doc-link fitted\">i<span>Fitted</span></span></div></label><div class=\"sk-toggleable__content fitted\"><pre>LinearRegression()</pre></div> </div></div></div></div>"
            ]
          },
          "metadata": {},
          "execution_count": 12
        }
      ]
    },
    {
      "cell_type": "markdown",
      "source": [
        "*why no parameter is passing in LinReg func? __init__ is used in this func. and for simplicity we are not changing the base LinReg func*"
      ],
      "metadata": {
        "id": "MsAQnwzI9Dor"
      }
    },
    {
      "cell_type": "markdown",
      "metadata": {
        "id": "xNkXL1YQBiBT"
      },
      "source": [
        "## Predicting the Test set results"
      ]
    },
    {
      "cell_type": "code",
      "source": [
        "y_pred = regressor.predict(X_test)\n",
        "np.set_printoptions(precision = 2) #just set that array elements do not have precision more than 2\n",
        "print(np.concatenate((y_pred.reshape(len(y_pred),1), y_test.reshape(len(y_test),1)),1)) #the last 1 is the value of axis. if axis =0 then horizontal and 1 means vertical"
      ],
      "metadata": {
        "colab": {
          "base_uri": "https://localhost:8080/"
        },
        "id": "z7H9Mtog7_ey",
        "outputId": "1f09fca4-492f-4777-f6f2-c70a4cf77b2a"
      },
      "execution_count": null,
      "outputs": [
        {
          "output_type": "stream",
          "name": "stdout",
          "text": [
            "[[103015.2  103282.38]\n",
            " [132582.28 144259.4 ]\n",
            " [132447.74 146121.95]\n",
            " [ 71976.1   77798.83]\n",
            " [178537.48 191050.39]\n",
            " [116161.24 105008.31]\n",
            " [ 67851.69  81229.06]\n",
            " [ 98791.73  97483.56]\n",
            " [113969.44 110352.25]\n",
            " [167921.07 166187.94]]\n"
          ]
        }
      ]
    },
    {
      "cell_type": "markdown",
      "source": [
        "# R-Squared value between test and predicted value of y"
      ],
      "metadata": {
        "id": "yriNHaEacEKf"
      }
    },
    {
      "cell_type": "code",
      "source": [
        "from sklearn.metrics import r2_score\n",
        "r_2 = r2_score(y_test, y_pred)\n",
        "print(r_2) #r_2 = 1 means the model perfectly explains all the variation in the target variable"
      ],
      "metadata": {
        "id": "g39YeDmliUol",
        "outputId": "09cec25f-b145-42ad-cd44-b8256df58248",
        "colab": {
          "base_uri": "https://localhost:8080/"
        }
      },
      "execution_count": null,
      "outputs": [
        {
          "output_type": "stream",
          "name": "stdout",
          "text": [
            "0.9347068473282546\n"
          ]
        }
      ]
    },
    {
      "cell_type": "markdown",
      "source": [
        "\n",
        "*Formula of R-square*\n",
        "\n",
        "![Screenshot 2025-02-02 224322.png](data:image/png;base64,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)\n",
        "\n"
      ],
      "metadata": {
        "id": "7xwS_HnQi6IK"
      }
    }
  ]
}